{
 "cells": [
  {
   "cell_type": "code",
   "execution_count": 2,
   "metadata": {},
   "outputs": [
    {
     "name": "stdout",
     "output_type": "stream",
     "text": [
      "hello world\n"
     ]
    }
   ],
   "source": [
    "print(\"hello world\")"
   ]
  },
  {
   "cell_type": "code",
   "execution_count": 3,
   "metadata": {},
   "outputs": [
    {
     "name": "stdout",
     "output_type": "stream",
     "text": [
      "Requirement already satisfied: supabase in c:\\users\\03123\\appdata\\local\\programs\\python\\python311\\lib\\site-packages (2.5.1)\n",
      "Requirement already satisfied: gotrue<3.0,>=1.3 in c:\\users\\03123\\appdata\\local\\programs\\python\\python311\\lib\\site-packages (from supabase) (2.5.4)\n",
      "Requirement already satisfied: httpx<0.28,>=0.24 in c:\\users\\03123\\appdata\\local\\programs\\python\\python311\\lib\\site-packages (from supabase) (0.27.0)\n",
      "Requirement already satisfied: postgrest<0.17.0,>=0.14 in c:\\users\\03123\\appdata\\local\\programs\\python\\python311\\lib\\site-packages (from supabase) (0.16.8)\n",
      "Requirement already satisfied: realtime<2.0.0,>=1.0.0 in c:\\users\\03123\\appdata\\local\\programs\\python\\python311\\lib\\site-packages (from supabase) (1.0.6)\n",
      "Requirement already satisfied: storage3<0.8.0,>=0.5.3 in c:\\users\\03123\\appdata\\local\\programs\\python\\python311\\lib\\site-packages (from supabase) (0.7.6)\n",
      "Requirement already satisfied: supafunc<0.5.0,>=0.3.1 in c:\\users\\03123\\appdata\\local\\programs\\python\\python311\\lib\\site-packages (from supabase) (0.4.6)\n",
      "Requirement already satisfied: pydantic<3,>=1.10 in c:\\users\\03123\\appdata\\local\\programs\\python\\python311\\lib\\site-packages (from gotrue<3.0,>=1.3->supabase) (2.7.1)\n",
      "Requirement already satisfied: anyio in c:\\users\\03123\\appdata\\local\\programs\\python\\python311\\lib\\site-packages (from httpx<0.28,>=0.24->supabase) (3.7.0)\n",
      "Requirement already satisfied: certifi in c:\\users\\03123\\appdata\\local\\programs\\python\\python311\\lib\\site-packages (from httpx<0.28,>=0.24->supabase) (2023.5.7)\n",
      "Requirement already satisfied: httpcore==1.* in c:\\users\\03123\\appdata\\local\\programs\\python\\python311\\lib\\site-packages (from httpx<0.28,>=0.24->supabase) (1.0.5)\n",
      "Requirement already satisfied: idna in c:\\users\\03123\\appdata\\local\\programs\\python\\python311\\lib\\site-packages (from httpx<0.28,>=0.24->supabase) (3.4)\n",
      "Requirement already satisfied: sniffio in c:\\users\\03123\\appdata\\local\\programs\\python\\python311\\lib\\site-packages (from httpx<0.28,>=0.24->supabase) (1.3.0)\n",
      "Requirement already satisfied: h11<0.15,>=0.13 in c:\\users\\03123\\appdata\\local\\programs\\python\\python311\\lib\\site-packages (from httpcore==1.*->httpx<0.28,>=0.24->supabase) (0.14.0)\n",
      "Requirement already satisfied: deprecation<3.0.0,>=2.1.0 in c:\\users\\03123\\appdata\\local\\programs\\python\\python311\\lib\\site-packages (from postgrest<0.17.0,>=0.14->supabase) (2.1.0)\n",
      "Requirement already satisfied: strenum<0.5.0,>=0.4.9 in c:\\users\\03123\\appdata\\local\\programs\\python\\python311\\lib\\site-packages (from postgrest<0.17.0,>=0.14->supabase) (0.4.15)\n",
      "Requirement already satisfied: python-dateutil<3.0.0,>=2.8.1 in c:\\users\\03123\\appdata\\local\\programs\\python\\python311\\lib\\site-packages (from realtime<2.0.0,>=1.0.0->supabase) (2.8.2)\n",
      "Requirement already satisfied: typing-extensions<5.0.0,>=4.12.2 in c:\\users\\03123\\appdata\\local\\programs\\python\\python311\\lib\\site-packages (from realtime<2.0.0,>=1.0.0->supabase) (4.12.2)\n",
      "Requirement already satisfied: websockets<13,>=11 in c:\\users\\03123\\appdata\\local\\programs\\python\\python311\\lib\\site-packages (from realtime<2.0.0,>=1.0.0->supabase) (12.0)\n",
      "Requirement already satisfied: packaging in c:\\users\\03123\\appdata\\local\\programs\\python\\python311\\lib\\site-packages (from deprecation<3.0.0,>=2.1.0->postgrest<0.17.0,>=0.14->supabase) (23.2)\n",
      "Requirement already satisfied: annotated-types>=0.4.0 in c:\\users\\03123\\appdata\\local\\programs\\python\\python311\\lib\\site-packages (from pydantic<3,>=1.10->gotrue<3.0,>=1.3->supabase) (0.6.0)\n",
      "Requirement already satisfied: pydantic-core==2.18.2 in c:\\users\\03123\\appdata\\local\\programs\\python\\python311\\lib\\site-packages (from pydantic<3,>=1.10->gotrue<3.0,>=1.3->supabase) (2.18.2)\n",
      "Requirement already satisfied: six>=1.5 in c:\\users\\03123\\appdata\\local\\programs\\python\\python311\\lib\\site-packages (from python-dateutil<3.0.0,>=2.8.1->realtime<2.0.0,>=1.0.0->supabase) (1.16.0)\n"
     ]
    },
    {
     "name": "stderr",
     "output_type": "stream",
     "text": [
      "DEPRECATION: Loading egg at c:\\users\\03123\\appdata\\local\\programs\\python\\python311\\lib\\site-packages\\mcqgenerator-0.0.1-py3.11.egg is deprecated. pip 24.3 will enforce this behaviour change. A possible replacement is to use pip for package installation.. Discussion can be found at https://github.com/pypa/pip/issues/12330\n",
      "DEPRECATION: Loading egg at c:\\users\\03123\\appdata\\local\\programs\\python\\python311\\lib\\site-packages\\pypdf2-3.0.1-py3.11.egg is deprecated. pip 24.3 will enforce this behaviour change. A possible replacement is to use pip for package installation.. Discussion can be found at https://github.com/pypa/pip/issues/12330\n",
      "DEPRECATION: Loading egg at c:\\users\\03123\\appdata\\local\\programs\\python\\python311\\lib\\site-packages\\python_dotenv-1.0.1-py3.11.egg is deprecated. pip 24.3 will enforce this behaviour change. A possible replacement is to use pip for package installation.. Discussion can be found at https://github.com/pypa/pip/issues/12330\n",
      "\n",
      "[notice] A new release of pip is available: 24.0 -> 24.1\n",
      "[notice] To update, run: python.exe -m pip install --upgrade pip\n"
     ]
    }
   ],
   "source": [
    "!pip install supabase\n"
   ]
  },
  {
   "cell_type": "code",
   "execution_count": 9,
   "metadata": {},
   "outputs": [],
   "source": [
    "import os\n",
    "from supabase import create_client, Client\n",
    "from dotenv import load_dotenv, find_dotenv\n",
    "\n",
    "\n",
    "load_dotenv()\n",
    "\n",
    "url = os.getenv(\"EXPO_PUBLIC_SUPABASE_URL\")\n",
    "key = os.getenv(\"EXPO_PUBLIC_SUPABASE_ANON_KEY\")\n",
    "supabase = create_client(url, key)\n"
   ]
  },
  {
   "cell_type": "code",
   "execution_count": 11,
   "metadata": {},
   "outputs": [
    {
     "data": {
      "text/plain": [
       "SyncBucket(id='files', name='files', owner='', public=False, created_at=datetime.datetime(2024, 6, 22, 15, 35, 11, 5000, tzinfo=tzutc()), updated_at=datetime.datetime(2024, 6, 22, 15, 35, 11, 5000, tzinfo=tzutc()), file_size_limit=None, allowed_mime_types=None)"
      ]
     },
     "execution_count": 11,
     "metadata": {},
     "output_type": "execute_result"
    }
   ],
   "source": [
    "res = supabase.storage.get_bucket(\"files\")\n",
    "res"
   ]
  },
  {
   "cell_type": "code",
   "execution_count": 13,
   "metadata": {},
   "outputs": [
    {
     "data": {
      "text/plain": [
       "[SyncBucket(id='files', name='files', owner='', public=False, created_at=datetime.datetime(2024, 6, 22, 15, 35, 11, 5000, tzinfo=tzutc()), updated_at=datetime.datetime(2024, 6, 22, 15, 35, 11, 5000, tzinfo=tzutc()), file_size_limit=None, allowed_mime_types=None)]"
      ]
     },
     "execution_count": 13,
     "metadata": {},
     "output_type": "execute_result"
    }
   ],
   "source": [
    "res = supabase.storage.list_buckets()\n",
    "res"
   ]
  },
  {
   "cell_type": "code",
   "execution_count": 15,
   "metadata": {},
   "outputs": [
    {
     "data": {
      "text/plain": [
       "[{'name': '7b512d94-c20a-445b-8d30-ae81cb25ba81',\n",
       "  'id': None,\n",
       "  'updated_at': None,\n",
       "  'created_at': None,\n",
       "  'last_accessed_at': None,\n",
       "  'metadata': None},\n",
       " {'name': 'af9326b8-8280-4425-8220-ccf480b36cd7',\n",
       "  'id': None,\n",
       "  'updated_at': None,\n",
       "  'created_at': None,\n",
       "  'last_accessed_at': None,\n",
       "  'metadata': None}]"
      ]
     },
     "execution_count": 15,
     "metadata": {},
     "output_type": "execute_result"
    }
   ],
   "source": [
    "res = supabase.storage.from_('files').list()\n",
    "res"
   ]
  },
  {
   "cell_type": "code",
   "execution_count": null,
   "metadata": {},
   "outputs": [],
   "source": [
    "supabase.storage.from_('files').list()"
   ]
  },
  {
   "cell_type": "code",
   "execution_count": 34,
   "metadata": {},
   "outputs": [
    {
     "name": "stdout",
     "output_type": "stream",
     "text": [
      "on user af9326b8-8280-4425-8220-ccf480b36cd7 ------------\n",
      "in af9326b8-8280-4425-8220-ccf480b36cd7/avatar\n",
      "avatar: [{'name': '1719172791635.png', 'id': 'd9fe098e-1a96-46eb-9f6d-5a9076872bae', 'updated_at': '2024-06-23T19:59:52.769Z', 'created_at': '2024-06-23T19:59:52.769Z', 'last_accessed_at': '2024-06-23T19:59:52.769Z', 'metadata': {'eTag': '\"ed303dd6c2b341a8618f2d52e115b2d1\"', 'size': 456537, 'mimetype': 'image/png', 'cacheControl': 'max-age=3600', 'lastModified': '2024-06-23T19:59:53.000Z', 'contentLength': 456537, 'httpStatusCode': 200}}]\n",
      "in af9326b8-8280-4425-8220-ccf480b36cd7/imgs\n",
      "imgs: [{'name': '1719172806552.png', 'id': '922874fd-251e-43c7-8a11-4e5399e120ba', 'updated_at': '2024-06-23T20:00:07.834Z', 'created_at': '2024-06-23T20:00:07.834Z', 'last_accessed_at': '2024-06-23T20:00:07.834Z', 'metadata': {'eTag': '\"7eb586da42e27399f11bea71deb90e89\"', 'size': 474800, 'mimetype': 'image/png', 'cacheControl': 'max-age=3600', 'lastModified': '2024-06-23T20:00:08.000Z', 'contentLength': 474800, 'httpStatusCode': 200}}, {'name': '1719172816231.png', 'id': '7890057c-ef23-463f-9c10-8463b204b0ca', 'updated_at': '2024-06-23T20:00:17.332Z', 'created_at': '2024-06-23T20:00:17.332Z', 'last_accessed_at': '2024-06-23T20:00:17.332Z', 'metadata': {'eTag': '\"1d35107bb89fde7b0e39bcf496f6048f\"', 'size': 489529, 'mimetype': 'image/png', 'cacheControl': 'max-age=3600', 'lastModified': '2024-06-23T20:00:18.000Z', 'contentLength': 489529, 'httpStatusCode': 200}}]\n",
      "Bucket processing complete!\n",
      "avatar_paths: ['af9326b8-8280-4425-8220-ccf480b36cd7/avatar/1719172791635.png']\n"
     ]
    }
   ],
   "source": [
    "# Libraries\n",
    "# from supabase import create_client, StorageFile\n",
    "\n",
    "# Supabase configuration (replace with your details)\n",
    "# url = \"YOUR_SUPABASE_URL\"\n",
    "# key = \"YOUR_SUPABASE_KEY\"\n",
    "\n",
    "# Define bucket name (replace with your actual bucket)\n",
    "bucket_name = \"files\"\n",
    "\n",
    "# Function to process a file\n",
    "def process_file(file_path):\n",
    "\n",
    "    print(f\"file_path is {file_path}\")\n",
    "    # Download file from Supabase Storage\n",
    "    # storage = supabase.storage()\n",
    "    # image_data = storage.from_(bucket_name).download(file_path)\n",
    "\n",
    "    # Use dlib to detect faces and extract embeddings (replace with actual dlib code)\n",
    "    # detector = cnn_face_detector(\"path/to/dlib_cnn_face_detector.dat\")\n",
    "    # predictor = shape_predictor(\"path/to/shape_predictor_68_face_landmarks.dat\")\n",
    "    # faces, embeddings = ...  # Implement face detection and embedding functionalities\n",
    "\n",
    "    # You can store or analyze the embeddings on the server-side\n",
    "    # ...\n",
    "\n",
    "# Function to iterate through bucket and subdirectories\n",
    "def process_bucket(bucket_name):\n",
    "    users = supabase.storage.from_(bucket_name).list()\n",
    "\n",
    "    # print(\"top level\")\n",
    "    # print(files)\n",
    "    # for file in files:\n",
    "    #     print(file[\"name\"])\n",
    "    # print(supabase.storage.from_(bucket_name).list(\"af9326b8-8280-4425-8220-ccf480b36cd7/\"))\n",
    "    # print(supabase.storage.from_(bucket_name).list(\"af9326b8-8280-4425-8220-ccf480b36cd7/avatar\"))\n",
    "    # print(supabase.storage.from_(bucket_name).list(\"af9326b8-8280-4425-8220-ccf480b36cd7/imgs\"))\n",
    "\n",
    "    \n",
    "\n",
    "    for user in users:\n",
    "        print(f\"on user {user[\"name\"]} ------------\")\n",
    "        img_or_avt = supabase.storage.from_(bucket_name).list(f\"{user[\"name\"]}/\")\n",
    "        if img_or_avt:\n",
    "            for ele in img_or_avt:\n",
    "                if ele[\"name\"] == \"imgs\":\n",
    "                    print(f\"in {user[\"name\"]}/imgs\")\n",
    "                    images = supabase.storage.from_(bucket_name).list(f\"{user[\"name\"]}/imgs/\")\n",
    "                    print(f\"imgs: {images}\")\n",
    "                elif ele[\"name\"] == \"avatar\":\n",
    "                    print(f\"in {user[\"name\"]}/avatar\")\n",
    "                    avatar = supabase.storage.from_(bucket_name).list(f\"{user[\"name\"]}/avatar/\")\n",
    "                    print(f\"avatar: {avatar}\") \n",
    "                    avatar_paths.append(f\"{user[\"name\"]}/avatar/{avatar[0][\"name\"]}\")\n",
    "\n",
    "# Initialize Supabase client\n",
    "# supabase = create_client(url, key)\n",
    "avatar_paths = []\n",
    "# Start processing the bucket\n",
    "process_bucket(bucket_name)\n",
    "\n",
    "print(\"Bucket processing complete!\")\n",
    "print(f\"avatar_paths: {avatar_paths}\")\n"
   ]
  },
  {
   "cell_type": "code",
   "execution_count": 50,
   "metadata": {},
   "outputs": [],
   "source": [
    "with open(\"./avatars/p1.png\", 'wb+') as f:\n",
    "  res = supabase.storage.from_(bucket_name).download(avatar_paths[0])\n",
    "  f.write(res)\n",
    "\n",
    "\n",
    "\n"
   ]
  },
  {
   "cell_type": "code",
   "execution_count": 52,
   "metadata": {},
   "outputs": [
    {
     "name": "stdout",
     "output_type": "stream",
     "text": [
      "WARNING:tensorflow:From c:\\Users\\03123\\anaconda3\\envs\\shareai\\Lib\\site-packages\\tf_keras\\src\\losses.py:2976: The name tf.losses.sparse_softmax_cross_entropy is deprecated. Please use tf.compat.v1.losses.sparse_softmax_cross_entropy instead.\n",
      "\n",
      "24-06-23 22:19:20 - Directory C:\\Users\\03123/.deepface created\n",
      "24-06-23 22:19:20 - Directory C:\\Users\\03123/.deepface/weights created\n"
     ]
    }
   ],
   "source": [
    "from deepface import DeepFace\n"
   ]
  },
  {
   "cell_type": "code",
   "execution_count": 54,
   "metadata": {},
   "outputs": [
    {
     "name": "stdout",
     "output_type": "stream",
     "text": [
      "24-06-23 22:22:46 - Found 5 newly added image(s), 0 removed image(s), 0 replaced image(s).\n"
     ]
    },
    {
     "name": "stderr",
     "output_type": "stream",
     "text": [
      "Finding representations:   0%|          | 0/5 [00:17<?, ?it/s]\n"
     ]
    },
    {
     "ename": "ValueError",
     "evalue": "The layer sequential_2 has never been called and thus has no defined input.",
     "output_type": "error",
     "traceback": [
      "\u001b[1;31m---------------------------------------------------------------------------\u001b[0m",
      "\u001b[1;31mValueError\u001b[0m                                Traceback (most recent call last)",
      "Cell \u001b[1;32mIn[54], line 1\u001b[0m\n\u001b[1;32m----> 1\u001b[0m dfs \u001b[38;5;241m=\u001b[39m \u001b[43mDeepFace\u001b[49m\u001b[38;5;241;43m.\u001b[39;49m\u001b[43mfind\u001b[49m\u001b[43m(\u001b[49m\n\u001b[0;32m      2\u001b[0m \u001b[43m  \u001b[49m\u001b[43mimg_path\u001b[49m\u001b[43m \u001b[49m\u001b[38;5;241;43m=\u001b[39;49m\u001b[43m \u001b[49m\u001b[38;5;124;43m\"\u001b[39;49m\u001b[38;5;124;43m./avatars/p1.png\u001b[39;49m\u001b[38;5;124;43m\"\u001b[39;49m\u001b[43m,\u001b[49m\n\u001b[0;32m      3\u001b[0m \u001b[43m  \u001b[49m\u001b[43mdb_path\u001b[49m\u001b[43m \u001b[49m\u001b[38;5;241;43m=\u001b[39;49m\u001b[43m \u001b[49m\u001b[38;5;124;43m\"\u001b[39;49m\u001b[38;5;124;43m./avatars\u001b[39;49m\u001b[38;5;124;43m\"\u001b[39;49m\u001b[43m,\u001b[49m\n\u001b[0;32m      4\u001b[0m \u001b[43m)\u001b[49m\n",
      "File \u001b[1;32mc:\\Users\\03123\\anaconda3\\envs\\shareai\\Lib\\site-packages\\deepface\\DeepFace.py:336\u001b[0m, in \u001b[0;36mfind\u001b[1;34m(img_path, db_path, model_name, distance_metric, enforce_detection, detector_backend, align, expand_percentage, threshold, normalization, silent, refresh_database, anti_spoofing)\u001b[0m\n\u001b[0;32m    259\u001b[0m \u001b[38;5;28;01mdef\u001b[39;00m \u001b[38;5;21mfind\u001b[39m(\n\u001b[0;32m    260\u001b[0m     img_path: Union[\u001b[38;5;28mstr\u001b[39m, np\u001b[38;5;241m.\u001b[39mndarray],\n\u001b[0;32m    261\u001b[0m     db_path: \u001b[38;5;28mstr\u001b[39m,\n\u001b[1;32m   (...)\u001b[0m\n\u001b[0;32m    272\u001b[0m     anti_spoofing: \u001b[38;5;28mbool\u001b[39m \u001b[38;5;241m=\u001b[39m \u001b[38;5;28;01mFalse\u001b[39;00m,\n\u001b[0;32m    273\u001b[0m ) \u001b[38;5;241m-\u001b[39m\u001b[38;5;241m>\u001b[39m List[pd\u001b[38;5;241m.\u001b[39mDataFrame]:\n\u001b[0;32m    274\u001b[0m \u001b[38;5;250m    \u001b[39m\u001b[38;5;124;03m\"\"\"\u001b[39;00m\n\u001b[0;32m    275\u001b[0m \u001b[38;5;124;03m    Identify individuals in a database\u001b[39;00m\n\u001b[0;32m    276\u001b[0m \u001b[38;5;124;03m    Args:\u001b[39;00m\n\u001b[1;32m   (...)\u001b[0m\n\u001b[0;32m    334\u001b[0m \u001b[38;5;124;03m                specified model and distance metric\u001b[39;00m\n\u001b[0;32m    335\u001b[0m \u001b[38;5;124;03m    \"\"\"\u001b[39;00m\n\u001b[1;32m--> 336\u001b[0m     \u001b[38;5;28;01mreturn\u001b[39;00m \u001b[43mrecognition\u001b[49m\u001b[38;5;241;43m.\u001b[39;49m\u001b[43mfind\u001b[49m\u001b[43m(\u001b[49m\n\u001b[0;32m    337\u001b[0m \u001b[43m        \u001b[49m\u001b[43mimg_path\u001b[49m\u001b[38;5;241;43m=\u001b[39;49m\u001b[43mimg_path\u001b[49m\u001b[43m,\u001b[49m\n\u001b[0;32m    338\u001b[0m \u001b[43m        \u001b[49m\u001b[43mdb_path\u001b[49m\u001b[38;5;241;43m=\u001b[39;49m\u001b[43mdb_path\u001b[49m\u001b[43m,\u001b[49m\n\u001b[0;32m    339\u001b[0m \u001b[43m        \u001b[49m\u001b[43mmodel_name\u001b[49m\u001b[38;5;241;43m=\u001b[39;49m\u001b[43mmodel_name\u001b[49m\u001b[43m,\u001b[49m\n\u001b[0;32m    340\u001b[0m \u001b[43m        \u001b[49m\u001b[43mdistance_metric\u001b[49m\u001b[38;5;241;43m=\u001b[39;49m\u001b[43mdistance_metric\u001b[49m\u001b[43m,\u001b[49m\n\u001b[0;32m    341\u001b[0m \u001b[43m        \u001b[49m\u001b[43menforce_detection\u001b[49m\u001b[38;5;241;43m=\u001b[39;49m\u001b[43menforce_detection\u001b[49m\u001b[43m,\u001b[49m\n\u001b[0;32m    342\u001b[0m \u001b[43m        \u001b[49m\u001b[43mdetector_backend\u001b[49m\u001b[38;5;241;43m=\u001b[39;49m\u001b[43mdetector_backend\u001b[49m\u001b[43m,\u001b[49m\n\u001b[0;32m    343\u001b[0m \u001b[43m        \u001b[49m\u001b[43malign\u001b[49m\u001b[38;5;241;43m=\u001b[39;49m\u001b[43malign\u001b[49m\u001b[43m,\u001b[49m\n\u001b[0;32m    344\u001b[0m \u001b[43m        \u001b[49m\u001b[43mexpand_percentage\u001b[49m\u001b[38;5;241;43m=\u001b[39;49m\u001b[43mexpand_percentage\u001b[49m\u001b[43m,\u001b[49m\n\u001b[0;32m    345\u001b[0m \u001b[43m        \u001b[49m\u001b[43mthreshold\u001b[49m\u001b[38;5;241;43m=\u001b[39;49m\u001b[43mthreshold\u001b[49m\u001b[43m,\u001b[49m\n\u001b[0;32m    346\u001b[0m \u001b[43m        \u001b[49m\u001b[43mnormalization\u001b[49m\u001b[38;5;241;43m=\u001b[39;49m\u001b[43mnormalization\u001b[49m\u001b[43m,\u001b[49m\n\u001b[0;32m    347\u001b[0m \u001b[43m        \u001b[49m\u001b[43msilent\u001b[49m\u001b[38;5;241;43m=\u001b[39;49m\u001b[43msilent\u001b[49m\u001b[43m,\u001b[49m\n\u001b[0;32m    348\u001b[0m \u001b[43m        \u001b[49m\u001b[43mrefresh_database\u001b[49m\u001b[38;5;241;43m=\u001b[39;49m\u001b[43mrefresh_database\u001b[49m\u001b[43m,\u001b[49m\n\u001b[0;32m    349\u001b[0m \u001b[43m        \u001b[49m\u001b[43manti_spoofing\u001b[49m\u001b[38;5;241;43m=\u001b[39;49m\u001b[43manti_spoofing\u001b[49m\u001b[43m,\u001b[49m\n\u001b[0;32m    350\u001b[0m \u001b[43m    \u001b[49m\u001b[43m)\u001b[49m\n",
      "File \u001b[1;32mc:\\Users\\03123\\anaconda3\\envs\\shareai\\Lib\\site-packages\\deepface\\modules\\recognition.py:207\u001b[0m, in \u001b[0;36mfind\u001b[1;34m(img_path, db_path, model_name, distance_metric, enforce_detection, detector_backend, align, expand_percentage, threshold, normalization, silent, refresh_database, anti_spoofing)\u001b[0m\n\u001b[0;32m    205\u001b[0m \u001b[38;5;66;03m# find representations for new images\u001b[39;00m\n\u001b[0;32m    206\u001b[0m \u001b[38;5;28;01mif\u001b[39;00m \u001b[38;5;28mlen\u001b[39m(new_images) \u001b[38;5;241m>\u001b[39m \u001b[38;5;241m0\u001b[39m:\n\u001b[1;32m--> 207\u001b[0m     representations \u001b[38;5;241m+\u001b[39m\u001b[38;5;241m=\u001b[39m \u001b[43m__find_bulk_embeddings\u001b[49m\u001b[43m(\u001b[49m\n\u001b[0;32m    208\u001b[0m \u001b[43m        \u001b[49m\u001b[43memployees\u001b[49m\u001b[38;5;241;43m=\u001b[39;49m\u001b[43mnew_images\u001b[49m\u001b[43m,\u001b[49m\n\u001b[0;32m    209\u001b[0m \u001b[43m        \u001b[49m\u001b[43mmodel_name\u001b[49m\u001b[38;5;241;43m=\u001b[39;49m\u001b[43mmodel_name\u001b[49m\u001b[43m,\u001b[49m\n\u001b[0;32m    210\u001b[0m \u001b[43m        \u001b[49m\u001b[43mdetector_backend\u001b[49m\u001b[38;5;241;43m=\u001b[39;49m\u001b[43mdetector_backend\u001b[49m\u001b[43m,\u001b[49m\n\u001b[0;32m    211\u001b[0m \u001b[43m        \u001b[49m\u001b[43menforce_detection\u001b[49m\u001b[38;5;241;43m=\u001b[39;49m\u001b[43menforce_detection\u001b[49m\u001b[43m,\u001b[49m\n\u001b[0;32m    212\u001b[0m \u001b[43m        \u001b[49m\u001b[43malign\u001b[49m\u001b[38;5;241;43m=\u001b[39;49m\u001b[43malign\u001b[49m\u001b[43m,\u001b[49m\n\u001b[0;32m    213\u001b[0m \u001b[43m        \u001b[49m\u001b[43mexpand_percentage\u001b[49m\u001b[38;5;241;43m=\u001b[39;49m\u001b[43mexpand_percentage\u001b[49m\u001b[43m,\u001b[49m\n\u001b[0;32m    214\u001b[0m \u001b[43m        \u001b[49m\u001b[43mnormalization\u001b[49m\u001b[38;5;241;43m=\u001b[39;49m\u001b[43mnormalization\u001b[49m\u001b[43m,\u001b[49m\n\u001b[0;32m    215\u001b[0m \u001b[43m        \u001b[49m\u001b[43msilent\u001b[49m\u001b[38;5;241;43m=\u001b[39;49m\u001b[43msilent\u001b[49m\u001b[43m,\u001b[49m\n\u001b[0;32m    216\u001b[0m \u001b[43m    \u001b[49m\u001b[43m)\u001b[49m  \u001b[38;5;66;03m# add new images\u001b[39;00m\n\u001b[0;32m    217\u001b[0m     must_save_pickle \u001b[38;5;241m=\u001b[39m \u001b[38;5;28;01mTrue\u001b[39;00m\n\u001b[0;32m    219\u001b[0m \u001b[38;5;28;01mif\u001b[39;00m must_save_pickle:\n",
      "File \u001b[1;32mc:\\Users\\03123\\anaconda3\\envs\\shareai\\Lib\\site-packages\\deepface\\modules\\recognition.py:393\u001b[0m, in \u001b[0;36m__find_bulk_embeddings\u001b[1;34m(employees, model_name, detector_backend, enforce_detection, align, expand_percentage, normalization, silent)\u001b[0m\n\u001b[0;32m    391\u001b[0m img_content \u001b[38;5;241m=\u001b[39m img_obj[\u001b[38;5;124m\"\u001b[39m\u001b[38;5;124mface\u001b[39m\u001b[38;5;124m\"\u001b[39m]\n\u001b[0;32m    392\u001b[0m img_region \u001b[38;5;241m=\u001b[39m img_obj[\u001b[38;5;124m\"\u001b[39m\u001b[38;5;124mfacial_area\u001b[39m\u001b[38;5;124m\"\u001b[39m]\n\u001b[1;32m--> 393\u001b[0m embedding_obj \u001b[38;5;241m=\u001b[39m \u001b[43mrepresentation\u001b[49m\u001b[38;5;241;43m.\u001b[39;49m\u001b[43mrepresent\u001b[49m\u001b[43m(\u001b[49m\n\u001b[0;32m    394\u001b[0m \u001b[43m    \u001b[49m\u001b[43mimg_path\u001b[49m\u001b[38;5;241;43m=\u001b[39;49m\u001b[43mimg_content\u001b[49m\u001b[43m,\u001b[49m\n\u001b[0;32m    395\u001b[0m \u001b[43m    \u001b[49m\u001b[43mmodel_name\u001b[49m\u001b[38;5;241;43m=\u001b[39;49m\u001b[43mmodel_name\u001b[49m\u001b[43m,\u001b[49m\n\u001b[0;32m    396\u001b[0m \u001b[43m    \u001b[49m\u001b[43menforce_detection\u001b[49m\u001b[38;5;241;43m=\u001b[39;49m\u001b[43menforce_detection\u001b[49m\u001b[43m,\u001b[49m\n\u001b[0;32m    397\u001b[0m \u001b[43m    \u001b[49m\u001b[43mdetector_backend\u001b[49m\u001b[38;5;241;43m=\u001b[39;49m\u001b[38;5;124;43m\"\u001b[39;49m\u001b[38;5;124;43mskip\u001b[39;49m\u001b[38;5;124;43m\"\u001b[39;49m\u001b[43m,\u001b[49m\n\u001b[0;32m    398\u001b[0m \u001b[43m    \u001b[49m\u001b[43malign\u001b[49m\u001b[38;5;241;43m=\u001b[39;49m\u001b[43malign\u001b[49m\u001b[43m,\u001b[49m\n\u001b[0;32m    399\u001b[0m \u001b[43m    \u001b[49m\u001b[43mnormalization\u001b[49m\u001b[38;5;241;43m=\u001b[39;49m\u001b[43mnormalization\u001b[49m\u001b[43m,\u001b[49m\n\u001b[0;32m    400\u001b[0m \u001b[43m\u001b[49m\u001b[43m)\u001b[49m\n\u001b[0;32m    402\u001b[0m img_representation \u001b[38;5;241m=\u001b[39m embedding_obj[\u001b[38;5;241m0\u001b[39m][\u001b[38;5;124m\"\u001b[39m\u001b[38;5;124membedding\u001b[39m\u001b[38;5;124m\"\u001b[39m]\n\u001b[0;32m    403\u001b[0m representations\u001b[38;5;241m.\u001b[39mappend(\n\u001b[0;32m    404\u001b[0m     {\n\u001b[0;32m    405\u001b[0m         \u001b[38;5;124m\"\u001b[39m\u001b[38;5;124midentity\u001b[39m\u001b[38;5;124m\"\u001b[39m: employee,\n\u001b[1;32m   (...)\u001b[0m\n\u001b[0;32m    412\u001b[0m     }\n\u001b[0;32m    413\u001b[0m )\n",
      "File \u001b[1;32mc:\\Users\\03123\\anaconda3\\envs\\shareai\\Lib\\site-packages\\deepface\\modules\\representation.py:65\u001b[0m, in \u001b[0;36mrepresent\u001b[1;34m(img_path, model_name, enforce_detection, detector_backend, align, expand_percentage, normalization, anti_spoofing)\u001b[0m\n\u001b[0;32m     23\u001b[0m \u001b[38;5;250m\u001b[39m\u001b[38;5;124;03m\"\"\"\u001b[39;00m\n\u001b[0;32m     24\u001b[0m \u001b[38;5;124;03mRepresent facial images as multi-dimensional vector embeddings.\u001b[39;00m\n\u001b[0;32m     25\u001b[0m \n\u001b[1;32m   (...)\u001b[0m\n\u001b[0;32m     61\u001b[0m \u001b[38;5;124;03m        to 'skip', the confidence will be 0 and is nonsensical.\u001b[39;00m\n\u001b[0;32m     62\u001b[0m \u001b[38;5;124;03m\"\"\"\u001b[39;00m\n\u001b[0;32m     63\u001b[0m resp_objs \u001b[38;5;241m=\u001b[39m []\n\u001b[1;32m---> 65\u001b[0m model: FacialRecognition \u001b[38;5;241m=\u001b[39m \u001b[43mmodeling\u001b[49m\u001b[38;5;241;43m.\u001b[39;49m\u001b[43mbuild_model\u001b[49m\u001b[43m(\u001b[49m\u001b[43mmodel_name\u001b[49m\u001b[43m)\u001b[49m\n\u001b[0;32m     67\u001b[0m \u001b[38;5;66;03m# ---------------------------------\u001b[39;00m\n\u001b[0;32m     68\u001b[0m \u001b[38;5;66;03m# we have run pre-process in verification. so, this can be skipped if it is coming from verify.\u001b[39;00m\n\u001b[0;32m     69\u001b[0m target_size \u001b[38;5;241m=\u001b[39m model\u001b[38;5;241m.\u001b[39minput_shape\n",
      "File \u001b[1;32mc:\\Users\\03123\\anaconda3\\envs\\shareai\\Lib\\site-packages\\deepface\\modules\\modeling.py:59\u001b[0m, in \u001b[0;36mbuild_model\u001b[1;34m(model_name)\u001b[0m\n\u001b[0;32m     57\u001b[0m model \u001b[38;5;241m=\u001b[39m models\u001b[38;5;241m.\u001b[39mget(model_name)\n\u001b[0;32m     58\u001b[0m \u001b[38;5;28;01mif\u001b[39;00m model:\n\u001b[1;32m---> 59\u001b[0m     model_obj[model_name] \u001b[38;5;241m=\u001b[39m \u001b[43mmodel\u001b[49m\u001b[43m(\u001b[49m\u001b[43m)\u001b[49m\n\u001b[0;32m     60\u001b[0m \u001b[38;5;28;01melse\u001b[39;00m:\n\u001b[0;32m     61\u001b[0m     \u001b[38;5;28;01mraise\u001b[39;00m \u001b[38;5;167;01mValueError\u001b[39;00m(\u001b[38;5;124mf\u001b[39m\u001b[38;5;124m\"\u001b[39m\u001b[38;5;124mInvalid model_name passed - \u001b[39m\u001b[38;5;132;01m{\u001b[39;00mmodel_name\u001b[38;5;132;01m}\u001b[39;00m\u001b[38;5;124m\"\u001b[39m)\n",
      "File \u001b[1;32mc:\\Users\\03123\\anaconda3\\envs\\shareai\\Lib\\site-packages\\deepface\\basemodels\\VGGFace.py:45\u001b[0m, in \u001b[0;36mVggFaceClient.__init__\u001b[1;34m(self)\u001b[0m\n\u001b[0;32m     44\u001b[0m \u001b[38;5;28;01mdef\u001b[39;00m \u001b[38;5;21m__init__\u001b[39m(\u001b[38;5;28mself\u001b[39m):\n\u001b[1;32m---> 45\u001b[0m     \u001b[38;5;28mself\u001b[39m\u001b[38;5;241m.\u001b[39mmodel \u001b[38;5;241m=\u001b[39m \u001b[43mload_model\u001b[49m\u001b[43m(\u001b[49m\u001b[43m)\u001b[49m\n\u001b[0;32m     46\u001b[0m     \u001b[38;5;28mself\u001b[39m\u001b[38;5;241m.\u001b[39mmodel_name \u001b[38;5;241m=\u001b[39m \u001b[38;5;124m\"\u001b[39m\u001b[38;5;124mVGG-Face\u001b[39m\u001b[38;5;124m\"\u001b[39m\n\u001b[0;32m     47\u001b[0m     \u001b[38;5;28mself\u001b[39m\u001b[38;5;241m.\u001b[39minput_shape \u001b[38;5;241m=\u001b[39m (\u001b[38;5;241m224\u001b[39m, \u001b[38;5;241m224\u001b[39m)\n",
      "File \u001b[1;32mc:\\Users\\03123\\anaconda3\\envs\\shareai\\Lib\\site-packages\\deepface\\basemodels\\VGGFace.py:158\u001b[0m, in \u001b[0;36mload_model\u001b[1;34m(url)\u001b[0m\n\u001b[0;32m    153\u001b[0m base_model_output \u001b[38;5;241m=\u001b[39m Flatten()(model\u001b[38;5;241m.\u001b[39mlayers[\u001b[38;5;241m-\u001b[39m\u001b[38;5;241m5\u001b[39m]\u001b[38;5;241m.\u001b[39moutput)\n\u001b[0;32m    154\u001b[0m \u001b[38;5;66;03m# keras backend's l2 normalization layer troubles some gpu users (e.g. issue 957, 966)\u001b[39;00m\n\u001b[0;32m    155\u001b[0m \u001b[38;5;66;03m# base_model_output = Lambda(lambda x: K.l2_normalize(x, axis=1), name=\"norm_layer\")(\u001b[39;00m\n\u001b[0;32m    156\u001b[0m \u001b[38;5;66;03m#     base_model_output\u001b[39;00m\n\u001b[0;32m    157\u001b[0m \u001b[38;5;66;03m# )\u001b[39;00m\n\u001b[1;32m--> 158\u001b[0m vgg_face_descriptor \u001b[38;5;241m=\u001b[39m Model(inputs\u001b[38;5;241m=\u001b[39m\u001b[43mmodel\u001b[49m\u001b[38;5;241;43m.\u001b[39;49m\u001b[43minput\u001b[49m, outputs\u001b[38;5;241m=\u001b[39mbase_model_output)\n\u001b[0;32m    160\u001b[0m \u001b[38;5;28;01mreturn\u001b[39;00m vgg_face_descriptor\n",
      "File \u001b[1;32mc:\\Users\\03123\\anaconda3\\envs\\shareai\\Lib\\site-packages\\keras\\src\\ops\\operation.py:228\u001b[0m, in \u001b[0;36mOperation.input\u001b[1;34m(self)\u001b[0m\n\u001b[0;32m    218\u001b[0m \u001b[38;5;129m@property\u001b[39m\n\u001b[0;32m    219\u001b[0m \u001b[38;5;28;01mdef\u001b[39;00m \u001b[38;5;21minput\u001b[39m(\u001b[38;5;28mself\u001b[39m):\n\u001b[0;32m    220\u001b[0m \u001b[38;5;250m    \u001b[39m\u001b[38;5;124;03m\"\"\"Retrieves the input tensor(s) of a symbolic operation.\u001b[39;00m\n\u001b[0;32m    221\u001b[0m \n\u001b[0;32m    222\u001b[0m \u001b[38;5;124;03m    Only returns the tensor(s) corresponding to the *first time*\u001b[39;00m\n\u001b[1;32m   (...)\u001b[0m\n\u001b[0;32m    226\u001b[0m \u001b[38;5;124;03m        Input tensor or list of input tensors.\u001b[39;00m\n\u001b[0;32m    227\u001b[0m \u001b[38;5;124;03m    \"\"\"\u001b[39;00m\n\u001b[1;32m--> 228\u001b[0m     \u001b[38;5;28;01mreturn\u001b[39;00m \u001b[38;5;28;43mself\u001b[39;49m\u001b[38;5;241;43m.\u001b[39;49m\u001b[43m_get_node_attribute_at_index\u001b[49m\u001b[43m(\u001b[49m\u001b[38;5;241;43m0\u001b[39;49m\u001b[43m,\u001b[49m\u001b[43m \u001b[49m\u001b[38;5;124;43m\"\u001b[39;49m\u001b[38;5;124;43minput_tensors\u001b[39;49m\u001b[38;5;124;43m\"\u001b[39;49m\u001b[43m,\u001b[49m\u001b[43m \u001b[49m\u001b[38;5;124;43m\"\u001b[39;49m\u001b[38;5;124;43minput\u001b[39;49m\u001b[38;5;124;43m\"\u001b[39;49m\u001b[43m)\u001b[49m\n",
      "File \u001b[1;32mc:\\Users\\03123\\anaconda3\\envs\\shareai\\Lib\\site-packages\\keras\\src\\ops\\operation.py:259\u001b[0m, in \u001b[0;36mOperation._get_node_attribute_at_index\u001b[1;34m(self, node_index, attr, attr_name)\u001b[0m\n\u001b[0;32m    243\u001b[0m \u001b[38;5;250m\u001b[39m\u001b[38;5;124;03m\"\"\"Private utility to retrieves an attribute (e.g. inputs) from a node.\u001b[39;00m\n\u001b[0;32m    244\u001b[0m \n\u001b[0;32m    245\u001b[0m \u001b[38;5;124;03mThis is used to implement the properties:\u001b[39;00m\n\u001b[1;32m   (...)\u001b[0m\n\u001b[0;32m    256\u001b[0m \u001b[38;5;124;03m    The operation's attribute `attr` at the node of index `node_index`.\u001b[39;00m\n\u001b[0;32m    257\u001b[0m \u001b[38;5;124;03m\"\"\"\u001b[39;00m\n\u001b[0;32m    258\u001b[0m \u001b[38;5;28;01mif\u001b[39;00m \u001b[38;5;129;01mnot\u001b[39;00m \u001b[38;5;28mself\u001b[39m\u001b[38;5;241m.\u001b[39m_inbound_nodes:\n\u001b[1;32m--> 259\u001b[0m     \u001b[38;5;28;01mraise\u001b[39;00m \u001b[38;5;167;01mValueError\u001b[39;00m(\n\u001b[0;32m    260\u001b[0m         \u001b[38;5;124mf\u001b[39m\u001b[38;5;124m\"\u001b[39m\u001b[38;5;124mThe layer \u001b[39m\u001b[38;5;132;01m{\u001b[39;00m\u001b[38;5;28mself\u001b[39m\u001b[38;5;241m.\u001b[39mname\u001b[38;5;132;01m}\u001b[39;00m\u001b[38;5;124m has never been called \u001b[39m\u001b[38;5;124m\"\u001b[39m\n\u001b[0;32m    261\u001b[0m         \u001b[38;5;124mf\u001b[39m\u001b[38;5;124m\"\u001b[39m\u001b[38;5;124mand thus has no defined \u001b[39m\u001b[38;5;132;01m{\u001b[39;00mattr_name\u001b[38;5;132;01m}\u001b[39;00m\u001b[38;5;124m.\u001b[39m\u001b[38;5;124m\"\u001b[39m\n\u001b[0;32m    262\u001b[0m     )\n\u001b[0;32m    263\u001b[0m \u001b[38;5;28;01mif\u001b[39;00m \u001b[38;5;129;01mnot\u001b[39;00m \u001b[38;5;28mlen\u001b[39m(\u001b[38;5;28mself\u001b[39m\u001b[38;5;241m.\u001b[39m_inbound_nodes) \u001b[38;5;241m>\u001b[39m node_index:\n\u001b[0;32m    264\u001b[0m     \u001b[38;5;28;01mraise\u001b[39;00m \u001b[38;5;167;01mValueError\u001b[39;00m(\n\u001b[0;32m    265\u001b[0m         \u001b[38;5;124mf\u001b[39m\u001b[38;5;124m\"\u001b[39m\u001b[38;5;124mAsked to get \u001b[39m\u001b[38;5;132;01m{\u001b[39;00mattr_name\u001b[38;5;132;01m}\u001b[39;00m\u001b[38;5;124m at node \u001b[39m\u001b[38;5;124m\"\u001b[39m\n\u001b[0;32m    266\u001b[0m         \u001b[38;5;124mf\u001b[39m\u001b[38;5;124m\"\u001b[39m\u001b[38;5;132;01m{\u001b[39;00mnode_index\u001b[38;5;132;01m}\u001b[39;00m\u001b[38;5;124m, but the operation has only \u001b[39m\u001b[38;5;124m\"\u001b[39m\n\u001b[0;32m    267\u001b[0m         \u001b[38;5;124mf\u001b[39m\u001b[38;5;124m\"\u001b[39m\u001b[38;5;132;01m{\u001b[39;00m\u001b[38;5;28mlen\u001b[39m(\u001b[38;5;28mself\u001b[39m\u001b[38;5;241m.\u001b[39m_inbound_nodes)\u001b[38;5;132;01m}\u001b[39;00m\u001b[38;5;124m inbound nodes.\u001b[39m\u001b[38;5;124m\"\u001b[39m\n\u001b[0;32m    268\u001b[0m     )\n",
      "\u001b[1;31mValueError\u001b[0m: The layer sequential_2 has never been called and thus has no defined input."
     ]
    }
   ],
   "source": [
    "dfs = DeepFace.find(\n",
    "  img_path = \"./avatars/p1.png\",\n",
    "  db_path = \"./avatars\",\n",
    ")\n"
   ]
  }
 ],
 "metadata": {
  "kernelspec": {
   "display_name": "Python 3",
   "language": "python",
   "name": "python3"
  },
  "language_info": {
   "codemirror_mode": {
    "name": "ipython",
    "version": 3
   },
   "file_extension": ".py",
   "mimetype": "text/x-python",
   "name": "python",
   "nbconvert_exporter": "python",
   "pygments_lexer": "ipython3",
   "version": "3.12.4"
  }
 },
 "nbformat": 4,
 "nbformat_minor": 2
}
